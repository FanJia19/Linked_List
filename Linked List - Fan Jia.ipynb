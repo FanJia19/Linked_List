{
 "cells": [
  {
   "cell_type": "markdown",
   "metadata": {},
   "source": [
    "## Linked List"
   ]
  },
  {
   "cell_type": "code",
   "execution_count": 91,
   "metadata": {},
   "outputs": [],
   "source": [
    "# Define a class for the linked list nodes:\n",
    "\n",
    "class Node:\n",
    "    def __init__(self,data):\n",
    "        self.data = data\n",
    "        self.ref = None\n",
    "        \n",
    "    def insert(self, ref, data):\n",
    "        n = self\n",
    "        while n is not None:\n",
    "            if n.data == ref:\n",
    "                break\n",
    "            n = n.ref\n",
    "        new_node = Node(data)\n",
    "        new_node.ref = n.ref\n",
    "        n.ref = new_node\n",
    "            \n",
    "    def show_list(self):\n",
    "        n = self\n",
    "        while n is not None:\n",
    "            print(n.data)\n",
    "            n = n.ref\n",
    "         "
   ]
  },
  {
   "cell_type": "code",
   "execution_count": 92,
   "metadata": {
    "scrolled": true
   },
   "outputs": [
    {
     "name": "stdout",
     "output_type": "stream",
     "text": [
      "1\n",
      "10\n",
      "15\n",
      "5\n"
     ]
    }
   ],
   "source": [
    "# Test: adding random elements to build a linked list\n",
    "linked_list = Node(1)\n",
    "linked_list.insert(1,5)\n",
    "linked_list.insert(1,10)\n",
    "linked_list.insert(10,15)\n",
    "linked_list.show_list()"
   ]
  },
  {
   "cell_type": "code",
   "execution_count": 93,
   "metadata": {
    "scrolled": false
   },
   "outputs": [
    {
     "name": "stdout",
     "output_type": "stream",
     "text": [
      "1\n",
      "9\n",
      "8\n",
      "7\n",
      "6\n",
      "5\n",
      "4\n",
      "3\n",
      "2\n"
     ]
    }
   ],
   "source": [
    "# Test: adding elements after the first node\n",
    "a = [1,2,3,4,5,6,7,8,9]\n",
    "linked_list = Node(a[0])\n",
    "for i in a[1:]:\n",
    "    linked_list.insert(a[0],i)\n",
    "linked_list.show_list()"
   ]
  },
  {
   "cell_type": "code",
   "execution_count": 95,
   "metadata": {
    "scrolled": false
   },
   "outputs": [
    {
     "name": "stdout",
     "output_type": "stream",
     "text": [
      "Time of adding an element to a 10-node linked list:1.1920928955078125e-06\n",
      "Time of adding an element to a 100-node linked list:9.5367431640625e-07\n",
      "Time of adding an element to a 500-node linked list:9.5367431640625e-07\n",
      "Time of adding an element to a 1000-node linked list:9.5367431640625e-07\n",
      "Time of adding an element to a 5000-node linked list:9.5367431640625e-07\n",
      "Time of adding an element to a 10000-node linked list:9.5367431640625e-07\n",
      "Time of adding an element to a 50000-node linked list:1.9073486328125e-06\n",
      "Time of adding an element to a 100000-node linked list:1.9073486328125e-06\n",
      "Time of adding an element to a 500000-node linked list:7.152557373046875e-07\n",
      "Time of adding an element to a 1000000-node linked list:1.6689300537109375e-06\n"
     ]
    },
    {
     "data": {
      "image/png": "[encoded data removed]",
      "text/plain": [
       "<Figure size 432x288 with 1 Axes>"
      ]
     },
     "metadata": {
      "needs_background": "light"
     },
     "output_type": "display_data"
    }
   ],
   "source": [
    "# The time complexity of adding an element to linked lists of various lengths is  \n",
    "# constant, with an extremely small deviation around 9.54e-07 second.\n",
    "\n",
    "import random\n",
    "import time\n",
    "\n",
    "insert_time = []\n",
    "k = [10, 100, 500, 1000, 5000, 10000, 50000, 100000, 500000, 1000000]\n",
    "\n",
    "for n in k:\n",
    "    list_random = [random.randint(1, n) for i in range(n)]\n",
    "    linked_list = Node(list_random[0])\n",
    "\n",
    "    for i in range(len(list_random)-1):\n",
    "        linked_list.insert(list_random[i],list_random[i+1])\n",
    "    \n",
    "    start = time.time()\n",
    "    linked_list.insert(list_random[0],99)\n",
    "    end = time.time()\n",
    "    total = end - start\n",
    "    \n",
    "    insert_time.append(total)\n",
    "    print(f\"Time of adding an element to a {n}-node linked list:\" + str(total))\n",
    "\n",
    "import matplotlib.pyplot as plt\n",
    "plt.plot(k, insert_time)\n",
    "plt.title('Time of adding adding a node')\n",
    "plt.xlabel('Length of list')\n",
    "plt.ylabel('Total Time')\n",
    "plt.show()"
   ]
  }
 ],
 "metadata": {
  "kernelspec": {
   "display_name": "Python 3",
   "language": "python",
   "name": "python3"
  },
  "language_info": {
   "codemirror_mode": {
    "name": "ipython",
    "version": 3
   },
   "file_extension": ".py",
   "mimetype": "text/x-python",
   "name": "python",
   "nbconvert_exporter": "python",
   "pygments_lexer": "ipython3",
   "version": "3.8.5"
  }
 },
 "nbformat": 4,
 "nbformat_minor": 4
}
